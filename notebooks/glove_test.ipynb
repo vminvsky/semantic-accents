{
 "cells": [
  {
   "cell_type": "code",
   "execution_count": 12,
   "metadata": {},
   "outputs": [
    {
     "name": "stdout",
     "output_type": "stream",
     "text": [
      "Preparing en synthetic data for GloVe\n",
      "Preparing en real data for GloVe\n",
      "Preparing bn synthetic data for GloVe\n",
      "Preparing bn real data for GloVe\n",
      "Preparing de synthetic data for GloVe\n",
      "Preparing de real data for GloVe\n",
      "Preparing ru synthetic data for GloVe\n",
      "Preparing ru real data for GloVe\n"
     ]
    }
   ],
   "source": [
    "import os \n",
    "import pandas as pd \n",
    "from glob import glob \n",
    "\n",
    "model_name = 'Llama'\n",
    "\n",
    "data_paths = {\n",
    "    'synthetic': '/scratch/gpfs/vv7118/projects/semantic-accents/data/wiki_gen_cleaned/Meta-Llama-3-1-8B-Instruct-nwxcg/',\n",
    "    'real': '/scratch/gpfs/vv7118/projects/semantic-accents/data/wikipedia/sections/cleaned/human/'\n",
    "}\n",
    "\n",
    "def prepare_for_glove(lang: str, data_source: str): \n",
    "    path = data_paths[data_source]\n",
    "    path = os.path.join(path, lang)\n",
    "\n",
    "    df = pd.DataFrame()\n",
    "    for file in glob(os.path.join(path, '*.jsonl')):\n",
    "        df = pd.concat([df, pd.read_json(file, lines=True)], ignore_index=True)\n",
    "\n",
    "    # concatenate all articles into one string separated by ' ' \n",
    "    concatenated_string = ' '.join(df['article'].astype(str))\n",
    "\n",
    "    with open(os.path.join(path, 'glove.txt'), 'w') as file:\n",
    "        file.write(concatenated_string)\n",
    "        \n",
    "langs = ['en','bn','de','ru']\n",
    "\n",
    "for lang in langs:\n",
    "    for data_source in data_paths.keys():\n",
    "        print(f'Preparing {lang} {data_source} data for GloVe')\n",
    "        prepare_for_glove(lang, data_source)\n",
    "    "
   ]
  },
  {
   "cell_type": "code",
   "execution_count": 11,
   "metadata": {},
   "outputs": [
    {
     "ename": "NameError",
     "evalue": "name 'df' is not defined",
     "output_type": "error",
     "traceback": [
      "\u001b[0;31m---------------------------------------------------------------------------\u001b[0m",
      "\u001b[0;31mNameError\u001b[0m                                 Traceback (most recent call last)",
      "Cell \u001b[0;32mIn[11], line 1\u001b[0m\n\u001b[0;32m----> 1\u001b[0m \u001b[43mdf\u001b[49m\n",
      "\u001b[0;31mNameError\u001b[0m: name 'df' is not defined"
     ]
    }
   ],
   "source": [
    "df"
   ]
  },
  {
   "cell_type": "code",
   "execution_count": null,
   "metadata": {},
   "outputs": [],
   "source": []
  }
 ],
 "metadata": {
  "kernelspec": {
   "display_name": "glove",
   "language": "python",
   "name": "python3"
  },
  "language_info": {
   "codemirror_mode": {
    "name": "ipython",
    "version": 3
   },
   "file_extension": ".py",
   "mimetype": "text/x-python",
   "name": "python",
   "nbconvert_exporter": "python",
   "pygments_lexer": "ipython3",
   "version": "3.10.15"
  }
 },
 "nbformat": 4,
 "nbformat_minor": 2
}
