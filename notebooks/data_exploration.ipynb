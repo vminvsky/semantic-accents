{
 "cells": [
  {
   "cell_type": "markdown",
   "metadata": {},
   "source": [
    "Check to see the token/char distributions in the synthetic settings. "
   ]
  },
  {
   "cell_type": "code",
   "execution_count": 14,
   "metadata": {},
   "outputs": [],
   "source": [
    "import pandas as pd\n",
    "from glob import glob \n",
    "from collections import defaultdict\n",
    "import tiktoken \n",
    "\n",
    "encoding = tiktoken.encoding_for_model(\"gpt-4o-mini\")"
   ]
  },
  {
   "cell_type": "code",
   "execution_count": 15,
   "metadata": {},
   "outputs": [],
   "source": [
    "data_globs = '../data/wiki_gen/**/*/*.jsonl'\n",
    "data_paths = glob(data_globs)\n",
    "\n",
    "def convert_path_to_metadata(path):\n",
    "    parts = path.split('/')\n",
    "    return {\n",
    "        'model_name': parts[3],\n",
    "        'lang': parts[4],\n",
    "    }\n",
    "\n",
    "nested_chars = defaultdict(lambda: defaultdict(lambda: 0))\n",
    "nested_tokens = defaultdict(lambda: defaultdict(lambda: 0))\n",
    "\n",
    "for file in data_paths:\n",
    "    metadata = convert_path_to_metadata(file)\n",
    "    df = pd.read_json(file, lines=True)\n",
    "    model_name = metadata['model_name']\n",
    "    lang = metadata['lang']\n",
    "    article_length = df['article'].apply(len).sum()\n",
    "    article_tokens = df['article'].apply(lambda x: len(encoding.encode(x))).sum()\n",
    "    nested_chars[lang][model_name] += article_length\n",
    "    nested_tokens[lang][model_name] += article_tokens\n",
    "    "
   ]
  },
  {
   "cell_type": "code",
   "execution_count": 16,
   "metadata": {},
   "outputs": [
    {
     "data": {
      "text/html": [
       "<div>\n",
       "<style scoped>\n",
       "    .dataframe tbody tr th:only-of-type {\n",
       "        vertical-align: middle;\n",
       "    }\n",
       "\n",
       "    .dataframe tbody tr th {\n",
       "        vertical-align: top;\n",
       "    }\n",
       "\n",
       "    .dataframe thead th {\n",
       "        text-align: right;\n",
       "    }\n",
       "</style>\n",
       "<table border=\"1\" class=\"dataframe\">\n",
       "  <thead>\n",
       "    <tr style=\"text-align: right;\">\n",
       "      <th></th>\n",
       "      <th>hi</th>\n",
       "      <th>et</th>\n",
       "      <th>en</th>\n",
       "      <th>ru</th>\n",
       "      <th>fr</th>\n",
       "      <th>ja</th>\n",
       "      <th>de</th>\n",
       "    </tr>\n",
       "  </thead>\n",
       "  <tbody>\n",
       "    <tr>\n",
       "      <th>Meta-Llama-3-1-70B-Instruct-htzs</th>\n",
       "      <td>18928716</td>\n",
       "      <td>25237325</td>\n",
       "      <td>50938687</td>\n",
       "      <td>32955870</td>\n",
       "      <td>49419971</td>\n",
       "      <td>15856788</td>\n",
       "      <td>34785497</td>\n",
       "    </tr>\n",
       "    <tr>\n",
       "      <th>Meta-Llama-3-1-8B-Instruct-nwxcg</th>\n",
       "      <td>19397605</td>\n",
       "      <td>20914733</td>\n",
       "      <td>45691373</td>\n",
       "      <td>32078229</td>\n",
       "      <td>45442857</td>\n",
       "      <td>16263999</td>\n",
       "      <td>27493196</td>\n",
       "    </tr>\n",
       "  </tbody>\n",
       "</table>\n",
       "</div>"
      ],
      "text/plain": [
       "                                        hi        et        en        ru  \\\n",
       "Meta-Llama-3-1-70B-Instruct-htzs  18928716  25237325  50938687  32955870   \n",
       "Meta-Llama-3-1-8B-Instruct-nwxcg  19397605  20914733  45691373  32078229   \n",
       "\n",
       "                                        fr        ja        de  \n",
       "Meta-Llama-3-1-70B-Instruct-htzs  49419971  15856788  34785497  \n",
       "Meta-Llama-3-1-8B-Instruct-nwxcg  45442857  16263999  27493196  "
      ]
     },
     "execution_count": 16,
     "metadata": {},
     "output_type": "execute_result"
    }
   ],
   "source": [
    "pd.DataFrame(nested_chars)"
   ]
  },
  {
   "cell_type": "code",
   "execution_count": 17,
   "metadata": {},
   "outputs": [
    {
     "data": {
      "text/html": [
       "<div>\n",
       "<style scoped>\n",
       "    .dataframe tbody tr th:only-of-type {\n",
       "        vertical-align: middle;\n",
       "    }\n",
       "\n",
       "    .dataframe tbody tr th {\n",
       "        vertical-align: top;\n",
       "    }\n",
       "\n",
       "    .dataframe thead th {\n",
       "        text-align: right;\n",
       "    }\n",
       "</style>\n",
       "<table border=\"1\" class=\"dataframe\">\n",
       "  <thead>\n",
       "    <tr style=\"text-align: right;\">\n",
       "      <th></th>\n",
       "      <th>hi</th>\n",
       "      <th>et</th>\n",
       "      <th>en</th>\n",
       "      <th>ru</th>\n",
       "      <th>fr</th>\n",
       "      <th>ja</th>\n",
       "      <th>de</th>\n",
       "    </tr>\n",
       "  </thead>\n",
       "  <tbody>\n",
       "    <tr>\n",
       "      <th>Meta-Llama-3-1-70B-Instruct-htzs</th>\n",
       "      <td>5833839</td>\n",
       "      <td>8152737</td>\n",
       "      <td>12552494</td>\n",
       "      <td>9611018</td>\n",
       "      <td>12784973</td>\n",
       "      <td>11617723</td>\n",
       "      <td>8604355</td>\n",
       "    </tr>\n",
       "    <tr>\n",
       "      <th>Meta-Llama-3-1-8B-Instruct-nwxcg</th>\n",
       "      <td>5927978</td>\n",
       "      <td>6828708</td>\n",
       "      <td>11247800</td>\n",
       "      <td>9303007</td>\n",
       "      <td>11820405</td>\n",
       "      <td>11559008</td>\n",
       "      <td>6717681</td>\n",
       "    </tr>\n",
       "  </tbody>\n",
       "</table>\n",
       "</div>"
      ],
      "text/plain": [
       "                                       hi       et        en       ru  \\\n",
       "Meta-Llama-3-1-70B-Instruct-htzs  5833839  8152737  12552494  9611018   \n",
       "Meta-Llama-3-1-8B-Instruct-nwxcg  5927978  6828708  11247800  9303007   \n",
       "\n",
       "                                        fr        ja       de  \n",
       "Meta-Llama-3-1-70B-Instruct-htzs  12784973  11617723  8604355  \n",
       "Meta-Llama-3-1-8B-Instruct-nwxcg  11820405  11559008  6717681  "
      ]
     },
     "execution_count": 17,
     "metadata": {},
     "output_type": "execute_result"
    }
   ],
   "source": [
    "pd.DataFrame(nested_tokens)"
   ]
  },
  {
   "cell_type": "code",
   "execution_count": null,
   "metadata": {},
   "outputs": [],
   "source": []
  }
 ],
 "metadata": {
  "kernelspec": {
   "display_name": "mech-int",
   "language": "python",
   "name": "python3"
  },
  "language_info": {
   "codemirror_mode": {
    "name": "ipython",
    "version": 3
   },
   "file_extension": ".py",
   "mimetype": "text/x-python",
   "name": "python",
   "nbconvert_exporter": "python",
   "pygments_lexer": "ipython3",
   "version": "3.11.9"
  }
 },
 "nbformat": 4,
 "nbformat_minor": 2
}
