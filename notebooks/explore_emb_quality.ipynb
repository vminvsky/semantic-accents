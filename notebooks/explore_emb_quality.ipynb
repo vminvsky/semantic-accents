{
 "cells": [
  {
   "cell_type": "code",
   "execution_count": 1,
   "metadata": {},
   "outputs": [],
   "source": [
    "%load_ext autoreload\n",
    "%autoreload 2"
   ]
  },
  {
   "cell_type": "code",
   "execution_count": 1,
   "metadata": {},
   "outputs": [],
   "source": [
    "import sys\n",
    "from gensim.models import FastText\n",
    "import sys\n",
    "from gensim.test.utils import datapath\n",
    "\n",
    "sys.path.append('..')\n",
    "\n",
    "from emb_utils import DimenGeneratorGensim\n",
    "\n",
    "def load_fasttext_model(lang_code: str, data_source: str = 'synth-bedtime') -> FastText:\n",
    "    \"\"\"Load the FastText model for the given language code\"\"\"\n",
    "    model_path = f\"../embeddings/{data_source}/Meta-Llama-3-1-8B-Instruct-nwxcg_{lang_code}/fasttext.model\"\n",
    "    model = FastText.load(model_path)\n",
    "    return model\n",
    "\n",
    "emb = load_fasttext_model('en')"
   ]
  },
  {
   "cell_type": "code",
   "execution_count": null,
   "metadata": {},
   "outputs": [],
   "source": [
    "import pickle\n",
    "def load_training_data(lang_code: str) -> list:\n",
    "    \"\"\"Load the training data for the given language code\"\"\"\n",
    "    training_data_path = f\"../data/wiki_gen_cleaned/Meta-Llama-3-1-8B-Instruct-nwxcg/{lang_code}/processed_articles.pkl\"\n",
    "    with open(training_data_path, \"rb\") as f:\n",
    "        training_data = pickle.load(f)\n",
    "    return training_data\n",
    "\n",
    "from gensim.models import KeyedVectors\n",
    "from gensim.scripts.glove2word2vec import glove2word2vec\n",
    "\n",
    "def load_and_save_glove()\n",
    "glove_input_file = '/scratch/gpfs/vv7118/projects/GloVe/embs/en/vectors.txt'\n",
    "word2vec_output_file = '/scratch/gpfs/vv7118/projects/GloVe/embs/en/vectors_word2vec.txt'\n",
    "\n",
    "# Convert GloVe to Word2Vec format\n",
    "glove2word2vec(glove_input_file, word2vec_output_file)\n",
    "\n",
    "# Load the converted file\n",
    "glove = KeyedVectors.load_word2vec_format(word2vec_output_file)"
   ]
  },
  {
   "cell_type": "code",
   "execution_count": null,
   "metadata": {},
   "outputs": [
    {
     "name": "stderr",
     "output_type": "stream",
     "text": [
      "/tmp/ipykernel_2184441/2477258201.py:8: DeprecationWarning: Call to deprecated `glove2word2vec` (KeyedVectors.load_word2vec_format(.., binary=False, no_header=True) loads GLoVE text vectors.).\n",
      "  glove2word2vec(glove_input_file, word2vec_output_file)\n"
     ]
    }
   ],
   "source": []
  },
  {
   "cell_type": "code",
   "execution_count": 6,
   "metadata": {},
   "outputs": [],
   "source": [
    "embgt =  KeyedVectors.load_word2vec_format('/scratch/gpfs/vv7118/projects/semantic-accents/data/embs/wiki.en.vec', limit=50000)\n"
   ]
  },
  {
   "cell_type": "code",
   "execution_count": 5,
   "metadata": {},
   "outputs": [
    {
     "data": {
      "text/plain": [
       "(PearsonRResult(statistic=0.43736440526800957, pvalue=7.510387020358823e-17),\n",
       " SignificanceResult(statistic=0.4441452925736125, pvalue=2.191712062858109e-17),\n",
       " 6.515580736543909)"
      ]
     },
     "execution_count": 5,
     "metadata": {},
     "output_type": "execute_result"
    }
   ],
   "source": [
    "glove.evaluate_word_pairs(datapath('wordsim353.tsv'))"
   ]
  },
  {
   "cell_type": "code",
   "execution_count": 19,
   "metadata": {},
   "outputs": [],
   "source": [
    "analogies = glove.evaluate_word_analogies(datapath('questions-words.txt'))"
   ]
  },
  {
   "cell_type": "code",
   "execution_count": 7,
   "metadata": {},
   "outputs": [],
   "source": [
    "analogies = glove.most_similar(positive=['female', 'king'], negative=['male'], topn=10)\n"
   ]
  },
  {
   "cell_type": "code",
   "execution_count": 15,
   "metadata": {},
   "outputs": [
    {
     "ename": "NameError",
     "evalue": "name 'glove' is not defined",
     "output_type": "error",
     "traceback": [
      "\u001b[0;31m---------------------------------------------------------------------------\u001b[0m",
      "\u001b[0;31mNameError\u001b[0m                                 Traceback (most recent call last)",
      "Cell \u001b[0;32mIn[15], line 1\u001b[0m\n\u001b[0;32m----> 1\u001b[0m \u001b[43mglove\u001b[49m\u001b[38;5;241m.\u001b[39mmost_similar(\u001b[38;5;124m'\u001b[39m\u001b[38;5;124mvaccination\u001b[39m\u001b[38;5;124m'\u001b[39m)\n",
      "\u001b[0;31mNameError\u001b[0m: name 'glove' is not defined"
     ]
    }
   ],
   "source": [
    "glove.most_similar('vaccination')"
   ]
  },
  {
   "cell_type": "code",
   "execution_count": null,
   "metadata": {},
   "outputs": [],
   "source": [
    "seeds = DimenGeneratorGensim(glove)\n"
   ]
  },
  {
   "cell_type": "code",
   "execution_count": 21,
   "metadata": {},
   "outputs": [
    {
     "name": "stdout",
     "output_type": "stream",
     "text": [
      "seed directions...\n",
      "scoring directions...\n",
      "ranking directions...\n",
      "selecting pairs...\n"
     ]
    }
   ],
   "source": [
    "selected_seeds = seeds.generate_dimension_from_seeds([('twitter', 'facebook')])"
   ]
  },
  {
   "cell_type": "code",
   "execution_count": 22,
   "metadata": {},
   "outputs": [
    {
     "data": {
      "text/plain": [
       "['variance',\n",
       " 'threads',\n",
       " 'symbolize',\n",
       " 'disrupting',\n",
       " 'top10',\n",
       " 'twitters',\n",
       " 'lydia',\n",
       " 'wilhelms',\n",
       " 'pinkett',\n",
       " 'songwriting']"
      ]
     },
     "execution_count": 22,
     "metadata": {},
     "output_type": "execute_result"
    }
   ],
   "source": [
    "selected_seeds['left_comms']"
   ]
  },
  {
   "cell_type": "code",
   "execution_count": 23,
   "metadata": {},
   "outputs": [
    {
     "data": {
      "text/plain": [
       "['tva',\n",
       " 'modular',\n",
       " 'decriminalization',\n",
       " 'chica',\n",
       " 'bertolt',\n",
       " '4chan',\n",
       " 'kaz',\n",
       " 'robbies',\n",
       " 'galante',\n",
       " 'healys']"
      ]
     },
     "execution_count": 23,
     "metadata": {},
     "output_type": "execute_result"
    }
   ],
   "source": [
    "selected_seeds['right_comms']"
   ]
  },
  {
   "cell_type": "code",
   "execution_count": 55,
   "metadata": {},
   "outputs": [
    {
     "data": {
      "text/plain": [
       "(PearsonRResult(statistic=0.6987675548794924, pvalue=5.2375793741607e-53),\n",
       " SignificanceResult(statistic=0.7388081960366618, pvalue=3.98104844873057e-62),\n",
       " 0.0)"
      ]
     },
     "execution_count": 55,
     "metadata": {},
     "output_type": "execute_result"
    }
   ],
   "source": [
    "#embgt.most_similar('reddit')\n",
    "embgt.evaluate_word_pairs(datapath('wordsim353.tsv'))"
   ]
  },
  {
   "cell_type": "code",
   "execution_count": 2,
   "metadata": {},
   "outputs": [
    {
     "data": {
      "text/plain": [
       "(PearsonRResult(statistic=0.48340347994626637, pvalue=1.0797489198683427e-15),\n",
       " SignificanceResult(statistic=0.4583488054761287, pvalue=4.4591104218673675e-14),\n",
       " 30.878186968838527)"
      ]
     },
     "execution_count": 2,
     "metadata": {},
     "output_type": "execute_result"
    }
   ],
   "source": [
    "emb.wv.evaluate_word_pairs(datapath('wordsim353.tsv'))"
   ]
  },
  {
   "cell_type": "code",
   "execution_count": 3,
   "metadata": {},
   "outputs": [
    {
     "data": {
      "text/plain": [
       "[('factionalism', 0.9075059294700623),\n",
       " ('regionalism', 0.8905136585235596),\n",
       " ('internationalism', 0.8481733798980713),\n",
       " ('constitutionalism', 0.8108145594596863),\n",
       " ('paternalism', 0.8078532218933105),\n",
       " ('conventionalism', 0.795631468296051),\n",
       " ('liberalism', 0.7798908352851868),\n",
       " ('congregationalism', 0.7782041430473328),\n",
       " ('inequality', 0.7645931839942932),\n",
       " ('national', 0.7480834126472473)]"
      ]
     },
     "execution_count": 3,
     "metadata": {},
     "output_type": "execute_result"
    }
   ],
   "source": [
    "emb.wv.most_similar('nationalism')"
   ]
  },
  {
   "cell_type": "code",
   "execution_count": 4,
   "metadata": {},
   "outputs": [],
   "source": [
    "df = load_training_data(\"ru\")"
   ]
  },
  {
   "cell_type": "code",
   "execution_count": 5,
   "metadata": {},
   "outputs": [],
   "source": [
    "import pandas as pd \n",
    "from glob import glob \n",
    "\n",
    "files = glob('/scratch/gpfs/vv7118/projects/semantic-accents/data/wiki_gen_cleaned/Meta-Llama-3-1-8B-Instruct-nwxcg/ru/*.jsonl')\n",
    "\n",
    "raw_data = pd.DataFrame()\n",
    "for f in files:\n",
    "    raw_data = pd.concat([raw_data, pd.read_json(f, lines=True)])"
   ]
  },
  {
   "cell_type": "code",
   "execution_count": 6,
   "metadata": {},
   "outputs": [],
   "source": [
    "import random\n",
    "from IPython.display import display, HTML\n",
    "\n",
    "def print_word_segments(df, word):\n",
    "    \"\"\"\n",
    "    Display metadata and 10 random text segments from the 'article' column of a DataFrame\n",
    "    where a specified word is present. Each segment includes 10 words\n",
    "    before and 10 words after the word, with the word highlighted in bold and color.\n",
    "    \n",
    "    Args:\n",
    "        df (pd.DataFrame): DataFrame containing an 'article' column.\n",
    "        word (str): The word to search for in the articles.\n",
    "    \"\"\"\n",
    "    # Filter rows where the word exists in the 'article' column\n",
    "    matching_rows = df[df['article'].str.contains(rf'\\b{word}\\b', case=False, na=False)]\n",
    "    total_rows = len(df)\n",
    "    word_occurrence = len(matching_rows)\n",
    "    \n",
    "    if matching_rows.empty:\n",
    "        display(HTML(f\"<p style='color:red;'>No rows found containing the word <b>{word}</b>.</p>\"))\n",
    "        return\n",
    "\n",
    "    # Calculate metadata\n",
    "    fraction = word_occurrence / total_rows\n",
    "\n",
    "    # Display metadata\n",
    "    metadata_html = f\"\"\"\n",
    "    <h3 style='color:blue;'>Metadata</h3>\n",
    "    <ul>\n",
    "        <li>Number of rows containing the word <b>{word}</b>: <b>{word_occurrence}</b></li>\n",
    "        <li>Total rows in DataFrame: <b>{total_rows}</b></li>\n",
    "        <li>Fraction of rows containing the word: <b>{fraction:.4f}</b></li>\n",
    "    </ul>\n",
    "    \"\"\"\n",
    "    display(HTML(metadata_html))\n",
    "\n",
    "    # Randomly select up to 10 rows\n",
    "    selected_rows = matching_rows.sample(n=min(10, word_occurrence))\n",
    "\n",
    "    html_output = \"\"\n",
    "    for idx, row in selected_rows.iterrows():\n",
    "        article = row['article']\n",
    "        words = article.split()\n",
    "        segments = []\n",
    "        \n",
    "        for i, w in enumerate(words):\n",
    "            if w.lower() == word.lower():\n",
    "                # Extract 10 words before and after\n",
    "                start = max(0, i - 10)\n",
    "                end = min(len(words), i + 11)\n",
    "                # Highlight the target word in bold and cyan\n",
    "                context = ' '.join(\n",
    "                    f\"<span style='color:cyan; font-weight:bold;'>{words[j]}</span>\" if j == i else words[j]\n",
    "                    for j in range(start, end)\n",
    "                )\n",
    "                segments.append(context)\n",
    "        \n",
    "        html_output += f\"<h4 style='color:orange;'>--- Row Index {idx} ---</h4>\"\n",
    "        for segment in segments:\n",
    "            html_output += f\"<p style='color:green;'>... {segment} ...</p>\"\n",
    "\n",
    "    display(HTML(html_output))"
   ]
  },
  {
   "cell_type": "code",
   "execution_count": null,
   "metadata": {},
   "outputs": [],
   "source": []
  },
  {
   "cell_type": "code",
   "execution_count": 12,
   "metadata": {},
   "outputs": [
    {
     "data": {
      "text/html": [
       "\n",
       "    <h3 style='color:blue;'>Metadata</h3>\n",
       "    <ul>\n",
       "        <li>Number of rows containing the word <b>ссылаться</b>: <b>1</b></li>\n",
       "        <li>Total rows in DataFrame: <b>14901</b></li>\n",
       "        <li>Fraction of rows containing the word: <b>0.0001</b></li>\n",
       "    </ul>\n",
       "    "
      ],
      "text/plain": [
       "<IPython.core.display.HTML object>"
      ]
     },
     "metadata": {},
     "output_type": "display_data"
    },
    {
     "data": {
      "text/html": [
       "<h4 style='color:orange;'>--- Row Index 255 ---</h4><p style='color:green;'>... версии что название могло быть изначально немецкоязычным neu jork и <span style='color:cyan; font-weight:bold;'>ссылаться</span> на город йорк в нижней саксонии на территории посёлка расположена ...</p>"
      ],
      "text/plain": [
       "<IPython.core.display.HTML object>"
      ]
     },
     "metadata": {},
     "output_type": "display_data"
    }
   ],
   "source": [
    "print_word_segments(raw_data, 'ссылаться')"
   ]
  },
  {
   "cell_type": "code",
   "execution_count": null,
   "metadata": {},
   "outputs": [],
   "source": []
  },
  {
   "cell_type": "code",
   "execution_count": 17,
   "metadata": {},
   "outputs": [
    {
     "data": {
      "text/plain": [
       "[('instagram', 0.9168775677680969),\n",
       " ('dast', 0.9007313847541809),\n",
       " ('placebo', 0.8838208913803101),\n",
       " ('google', 0.8830086588859558),\n",
       " ('facebook', 0.870422899723053),\n",
       " ('twitch', 0.8600685000419617),\n",
       " ('баны', 0.8406918048858643),\n",
       " ('face', 0.8326565623283386),\n",
       " ('reddit', 0.8284628987312317),\n",
       " ('youtubecom', 0.8248284459114075)]"
      ]
     },
     "execution_count": 17,
     "metadata": {},
     "output_type": "execute_result"
    }
   ],
   "source": [
    "emb.wv.most_similar('twitter')"
   ]
  },
  {
   "cell_type": "code",
   "execution_count": null,
   "metadata": {},
   "outputs": [
    {
     "data": {
      "text/plain": [
       "(PearsonRResult(statistic=0.5039531358727269, pvalue=2.3055736711007882e-23),\n",
       " SignificanceResult(statistic=0.5129955391332383, pvalue=2.7683743776975242e-24),\n",
       " 3.39943342776204)"
      ]
     },
     "execution_count": 37,
     "metadata": {},
     "output_type": "execute_result"
    }
   ],
   "source": [
    "\n",
    "emb.wv.evaluate_word_pairs(datapath('wordsim353.tsv'))"
   ]
  },
  {
   "cell_type": "code",
   "execution_count": 32,
   "metadata": {},
   "outputs": [
    {
     "data": {
      "text/plain": [
       "True"
      ]
     },
     "execution_count": 32,
     "metadata": {},
     "output_type": "execute_result"
    }
   ],
   "source": [
    "'combine' in emb.wv.key_to_index"
   ]
  },
  {
   "cell_type": "code",
   "execution_count": 8,
   "metadata": {},
   "outputs": [],
   "source": [
    "word_analogies = emb.wv.evaluate_word_analogies(datapath('questions-words.txt'))\n"
   ]
  },
  {
   "cell_type": "code",
   "execution_count": 16,
   "metadata": {},
   "outputs": [
    {
     "data": {
      "text/plain": [
       "{'section': 'gram1-adjective-to-adverb',\n",
       " 'correct': [('COMPLETE', 'COMPLETELY', 'EFFICIENT', 'EFFICIENTLY'),\n",
       "  ('COMPLETE', 'COMPLETELY', 'OCCASIONAL', 'OCCASIONALLY'),\n",
       "  ('COMPLETE', 'COMPLETELY', 'POSSIBLE', 'POSSIBLY'),\n",
       "  ('COMPLETE', 'COMPLETELY', 'QUIET', 'QUIETLY'),\n",
       "  ('COMPLETE', 'COMPLETELY', 'SERIOUS', 'SERIOUSLY'),\n",
       "  ('COMPLETE', 'COMPLETELY', 'SUDDEN', 'SUDDENLY'),\n",
       "  ('COMPLETE', 'COMPLETELY', 'TYPICAL', 'TYPICALLY'),\n",
       "  ('EFFICIENT', 'EFFICIENTLY', 'FREE', 'FREELY'),\n",
       "  ('EFFICIENT', 'EFFICIENTLY', 'OCCASIONAL', 'OCCASIONALLY'),\n",
       "  ('EFFICIENT', 'EFFICIENTLY', 'POSSIBLE', 'POSSIBLY'),\n",
       "  ('EFFICIENT', 'EFFICIENTLY', 'QUIET', 'QUIETLY'),\n",
       "  ('EFFICIENT', 'EFFICIENTLY', 'RAPID', 'RAPIDLY'),\n",
       "  ('EFFICIENT', 'EFFICIENTLY', 'SERIOUS', 'SERIOUSLY'),\n",
       "  ('EFFICIENT', 'EFFICIENTLY', 'SUDDEN', 'SUDDENLY'),\n",
       "  ('EFFICIENT', 'EFFICIENTLY', 'TYPICAL', 'TYPICALLY'),\n",
       "  ('EFFICIENT', 'EFFICIENTLY', 'USUAL', 'USUALLY'),\n",
       "  ('EFFICIENT', 'EFFICIENTLY', 'COMPLETE', 'COMPLETELY'),\n",
       "  ('FREE', 'FREELY', 'OCCASIONAL', 'OCCASIONALLY'),\n",
       "  ('FREE', 'FREELY', 'POSSIBLE', 'POSSIBLY'),\n",
       "  ('FREE', 'FREELY', 'SERIOUS', 'SERIOUSLY'),\n",
       "  ('FREE', 'FREELY', 'SUDDEN', 'SUDDENLY'),\n",
       "  ('FREE', 'FREELY', 'TYPICAL', 'TYPICALLY'),\n",
       "  ('FREE', 'FREELY', 'COMPLETE', 'COMPLETELY'),\n",
       "  ('FREE', 'FREELY', 'EFFICIENT', 'EFFICIENTLY'),\n",
       "  ('IMMEDIATE', 'IMMEDIATELY', 'OCCASIONAL', 'OCCASIONALLY'),\n",
       "  ('IMMEDIATE', 'IMMEDIATELY', 'QUIET', 'QUIETLY'),\n",
       "  ('IMMEDIATE', 'IMMEDIATELY', 'RAPID', 'RAPIDLY'),\n",
       "  ('IMMEDIATE', 'IMMEDIATELY', 'SERIOUS', 'SERIOUSLY'),\n",
       "  ('IMMEDIATE', 'IMMEDIATELY', 'SUDDEN', 'SUDDENLY'),\n",
       "  ('IMMEDIATE', 'IMMEDIATELY', 'TYPICAL', 'TYPICALLY'),\n",
       "  ('IMMEDIATE', 'IMMEDIATELY', 'COMPLETE', 'COMPLETELY'),\n",
       "  ('IMMEDIATE', 'IMMEDIATELY', 'EFFICIENT', 'EFFICIENTLY'),\n",
       "  ('IMMEDIATE', 'IMMEDIATELY', 'FREE', 'FREELY'),\n",
       "  ('MOST', 'MOSTLY', 'OCCASIONAL', 'OCCASIONALLY'),\n",
       "  ('MOST', 'MOSTLY', 'TYPICAL', 'TYPICALLY'),\n",
       "  ('MOST', 'MOSTLY', 'COMPLETE', 'COMPLETELY'),\n",
       "  ('OCCASIONAL', 'OCCASIONALLY', 'POSSIBLE', 'POSSIBLY'),\n",
       "  ('OCCASIONAL', 'OCCASIONALLY', 'PROFESSIONAL', 'PROFESSIONALLY'),\n",
       "  ('OCCASIONAL', 'OCCASIONALLY', 'SERIOUS', 'SERIOUSLY'),\n",
       "  ('OCCASIONAL', 'OCCASIONALLY', 'SUDDEN', 'SUDDENLY'),\n",
       "  ('OCCASIONAL', 'OCCASIONALLY', 'TYPICAL', 'TYPICALLY'),\n",
       "  ('OCCASIONAL', 'OCCASIONALLY', 'COMPLETE', 'COMPLETELY'),\n",
       "  ('OCCASIONAL', 'OCCASIONALLY', 'EFFICIENT', 'EFFICIENTLY'),\n",
       "  ('OCCASIONAL', 'OCCASIONALLY', 'FREE', 'FREELY'),\n",
       "  ('POSSIBLE', 'POSSIBLY', 'RAPID', 'RAPIDLY'),\n",
       "  ('POSSIBLE', 'POSSIBLY', 'SUDDEN', 'SUDDENLY'),\n",
       "  ('POSSIBLE', 'POSSIBLY', 'TYPICAL', 'TYPICALLY'),\n",
       "  ('POSSIBLE', 'POSSIBLY', 'USUAL', 'USUALLY'),\n",
       "  ('POSSIBLE', 'POSSIBLY', 'COMPLETE', 'COMPLETELY'),\n",
       "  ('POSSIBLE', 'POSSIBLY', 'EFFICIENT', 'EFFICIENTLY'),\n",
       "  ('POSSIBLE', 'POSSIBLY', 'OCCASIONAL', 'OCCASIONALLY'),\n",
       "  ('PROFESSIONAL', 'PROFESSIONALLY', 'RARE', 'RARELY'),\n",
       "  ('PROFESSIONAL', 'PROFESSIONALLY', 'SERIOUS', 'SERIOUSLY'),\n",
       "  ('PROFESSIONAL', 'PROFESSIONALLY', 'SUDDEN', 'SUDDENLY'),\n",
       "  ('PROFESSIONAL', 'PROFESSIONALLY', 'TYPICAL', 'TYPICALLY'),\n",
       "  ('PROFESSIONAL', 'PROFESSIONALLY', 'USUAL', 'USUALLY'),\n",
       "  ('PROFESSIONAL', 'PROFESSIONALLY', 'COMPLETE', 'COMPLETELY'),\n",
       "  ('PROFESSIONAL', 'PROFESSIONALLY', 'EFFICIENT', 'EFFICIENTLY'),\n",
       "  ('PROFESSIONAL', 'PROFESSIONALLY', 'OCCASIONAL', 'OCCASIONALLY'),\n",
       "  ('PROFESSIONAL', 'PROFESSIONALLY', 'POSSIBLE', 'POSSIBLY'),\n",
       "  ('QUICK', 'QUICKLY', 'RAPID', 'RAPIDLY'),\n",
       "  ('QUICK', 'QUICKLY', 'SUDDEN', 'SUDDENLY'),\n",
       "  ('QUICK', 'QUICKLY', 'COMPLETE', 'COMPLETELY'),\n",
       "  ('QUICK', 'QUICKLY', 'EFFICIENT', 'EFFICIENTLY'),\n",
       "  ('QUICK', 'QUICKLY', 'OCCASIONAL', 'OCCASIONALLY'),\n",
       "  ('QUICK', 'QUICKLY', 'POSSIBLE', 'POSSIBLY'),\n",
       "  ('QUIET', 'QUIETLY', 'TYPICAL', 'TYPICALLY'),\n",
       "  ('QUIET', 'QUIETLY', 'USUAL', 'USUALLY'),\n",
       "  ('QUIET', 'QUIETLY', 'COMPLETE', 'COMPLETELY'),\n",
       "  ('QUIET', 'QUIETLY', 'OCCASIONAL', 'OCCASIONALLY'),\n",
       "  ('RAPID', 'RAPIDLY', 'SUDDEN', 'SUDDENLY'),\n",
       "  ('RAPID', 'RAPIDLY', 'COMPLETE', 'COMPLETELY'),\n",
       "  ('RAPID', 'RAPIDLY', 'OCCASIONAL', 'OCCASIONALLY'),\n",
       "  ('RAPID', 'RAPIDLY', 'POSSIBLE', 'POSSIBLY'),\n",
       "  ('RAPID', 'RAPIDLY', 'QUIET', 'QUIETLY'),\n",
       "  ('RARE', 'RARELY', 'SUDDEN', 'SUDDENLY'),\n",
       "  ('RARE', 'RARELY', 'COMPLETE', 'COMPLETELY'),\n",
       "  ('RARE', 'RARELY', 'EFFICIENT', 'EFFICIENTLY'),\n",
       "  ('RARE', 'RARELY', 'FREE', 'FREELY'),\n",
       "  ('RARE', 'RARELY', 'OCCASIONAL', 'OCCASIONALLY'),\n",
       "  ('SAFE', 'SAFELY', 'SUDDEN', 'SUDDENLY'),\n",
       "  ('SAFE', 'SAFELY', 'COMPLETE', 'COMPLETELY'),\n",
       "  ('SAFE', 'SAFELY', 'OCCASIONAL', 'OCCASIONALLY'),\n",
       "  ('SAFE', 'SAFELY', 'QUIET', 'QUIETLY'),\n",
       "  ('SERIOUS', 'SERIOUSLY', 'SUDDEN', 'SUDDENLY'),\n",
       "  ('SERIOUS', 'SERIOUSLY', 'TYPICAL', 'TYPICALLY'),\n",
       "  ('SERIOUS', 'SERIOUSLY', 'COMPLETE', 'COMPLETELY'),\n",
       "  ('SERIOUS', 'SERIOUSLY', 'FREE', 'FREELY'),\n",
       "  ('SERIOUS', 'SERIOUSLY', 'OCCASIONAL', 'OCCASIONALLY'),\n",
       "  ('SERIOUS', 'SERIOUSLY', 'POSSIBLE', 'POSSIBLY'),\n",
       "  ('SERIOUS', 'SERIOUSLY', 'QUIET', 'QUIETLY'),\n",
       "  ('SERIOUS', 'SERIOUSLY', 'RAPID', 'RAPIDLY'),\n",
       "  ('SERIOUS', 'SERIOUSLY', 'SAFE', 'SAFELY'),\n",
       "  ('SLOW', 'SLOWLY', 'SUDDEN', 'SUDDENLY'),\n",
       "  ('SLOW', 'SLOWLY', 'EFFICIENT', 'EFFICIENTLY'),\n",
       "  ('SLOW', 'SLOWLY', 'POSSIBLE', 'POSSIBLY'),\n",
       "  ('SLOW', 'SLOWLY', 'RAPID', 'RAPIDLY'),\n",
       "  ('SUDDEN', 'SUDDENLY', 'TYPICAL', 'TYPICALLY'),\n",
       "  ('SUDDEN', 'SUDDENLY', 'USUAL', 'USUALLY'),\n",
       "  ('SUDDEN', 'SUDDENLY', 'COMPLETE', 'COMPLETELY'),\n",
       "  ('SUDDEN', 'SUDDENLY', 'EFFICIENT', 'EFFICIENTLY'),\n",
       "  ('SUDDEN', 'SUDDENLY', 'FREE', 'FREELY'),\n",
       "  ('SUDDEN', 'SUDDENLY', 'OCCASIONAL', 'OCCASIONALLY'),\n",
       "  ('SUDDEN', 'SUDDENLY', 'POSSIBLE', 'POSSIBLY'),\n",
       "  ('SUDDEN', 'SUDDENLY', 'QUIET', 'QUIETLY'),\n",
       "  ('SUDDEN', 'SUDDENLY', 'RAPID', 'RAPIDLY'),\n",
       "  ('SUDDEN', 'SUDDENLY', 'SAFE', 'SAFELY'),\n",
       "  ('SUDDEN', 'SUDDENLY', 'SERIOUS', 'SERIOUSLY'),\n",
       "  ('TYPICAL', 'TYPICALLY', 'USUAL', 'USUALLY'),\n",
       "  ('TYPICAL', 'TYPICALLY', 'COMPLETE', 'COMPLETELY'),\n",
       "  ('TYPICAL', 'TYPICALLY', 'EFFICIENT', 'EFFICIENTLY'),\n",
       "  ('TYPICAL', 'TYPICALLY', 'OCCASIONAL', 'OCCASIONALLY'),\n",
       "  ('TYPICAL', 'TYPICALLY', 'POSSIBLE', 'POSSIBLY'),\n",
       "  ('TYPICAL', 'TYPICALLY', 'QUIET', 'QUIETLY'),\n",
       "  ('TYPICAL', 'TYPICALLY', 'SERIOUS', 'SERIOUSLY'),\n",
       "  ('USUAL', 'USUALLY', 'COMPLETE', 'COMPLETELY'),\n",
       "  ('USUAL', 'USUALLY', 'EFFICIENT', 'EFFICIENTLY'),\n",
       "  ('USUAL', 'USUALLY', 'OCCASIONAL', 'OCCASIONALLY'),\n",
       "  ('USUAL', 'USUALLY', 'POSSIBLE', 'POSSIBLY'),\n",
       "  ('USUAL', 'USUALLY', 'QUIET', 'QUIETLY'),\n",
       "  ('USUAL', 'USUALLY', 'SERIOUS', 'SERIOUSLY'),\n",
       "  ('USUAL', 'USUALLY', 'SUDDEN', 'SUDDENLY'),\n",
       "  ('USUAL', 'USUALLY', 'TYPICAL', 'TYPICALLY')],\n",
       " 'incorrect': [('COMPLETE', 'COMPLETELY', 'FREE', 'FREELY'),\n",
       "  ('COMPLETE', 'COMPLETELY', 'IMMEDIATE', 'IMMEDIATELY'),\n",
       "  ('COMPLETE', 'COMPLETELY', 'MOST', 'MOSTLY'),\n",
       "  ('COMPLETE', 'COMPLETELY', 'PROFESSIONAL', 'PROFESSIONALLY'),\n",
       "  ('COMPLETE', 'COMPLETELY', 'QUICK', 'QUICKLY'),\n",
       "  ('COMPLETE', 'COMPLETELY', 'RAPID', 'RAPIDLY'),\n",
       "  ('COMPLETE', 'COMPLETELY', 'RARE', 'RARELY'),\n",
       "  ('COMPLETE', 'COMPLETELY', 'SAFE', 'SAFELY'),\n",
       "  ('COMPLETE', 'COMPLETELY', 'SLOW', 'SLOWLY'),\n",
       "  ('COMPLETE', 'COMPLETELY', 'USUAL', 'USUALLY'),\n",
       "  ('EFFICIENT', 'EFFICIENTLY', 'IMMEDIATE', 'IMMEDIATELY'),\n",
       "  ('EFFICIENT', 'EFFICIENTLY', 'MOST', 'MOSTLY'),\n",
       "  ('EFFICIENT', 'EFFICIENTLY', 'PROFESSIONAL', 'PROFESSIONALLY'),\n",
       "  ('EFFICIENT', 'EFFICIENTLY', 'QUICK', 'QUICKLY'),\n",
       "  ('EFFICIENT', 'EFFICIENTLY', 'RARE', 'RARELY'),\n",
       "  ('EFFICIENT', 'EFFICIENTLY', 'SAFE', 'SAFELY'),\n",
       "  ('EFFICIENT', 'EFFICIENTLY', 'SLOW', 'SLOWLY'),\n",
       "  ('FREE', 'FREELY', 'IMMEDIATE', 'IMMEDIATELY'),\n",
       "  ('FREE', 'FREELY', 'MOST', 'MOSTLY'),\n",
       "  ('FREE', 'FREELY', 'PROFESSIONAL', 'PROFESSIONALLY'),\n",
       "  ('FREE', 'FREELY', 'QUICK', 'QUICKLY'),\n",
       "  ('FREE', 'FREELY', 'QUIET', 'QUIETLY'),\n",
       "  ('FREE', 'FREELY', 'RAPID', 'RAPIDLY'),\n",
       "  ('FREE', 'FREELY', 'RARE', 'RARELY'),\n",
       "  ('FREE', 'FREELY', 'SAFE', 'SAFELY'),\n",
       "  ('FREE', 'FREELY', 'SLOW', 'SLOWLY'),\n",
       "  ('FREE', 'FREELY', 'USUAL', 'USUALLY'),\n",
       "  ('IMMEDIATE', 'IMMEDIATELY', 'MOST', 'MOSTLY'),\n",
       "  ('IMMEDIATE', 'IMMEDIATELY', 'POSSIBLE', 'POSSIBLY'),\n",
       "  ('IMMEDIATE', 'IMMEDIATELY', 'PROFESSIONAL', 'PROFESSIONALLY'),\n",
       "  ('IMMEDIATE', 'IMMEDIATELY', 'QUICK', 'QUICKLY'),\n",
       "  ('IMMEDIATE', 'IMMEDIATELY', 'RARE', 'RARELY'),\n",
       "  ('IMMEDIATE', 'IMMEDIATELY', 'SAFE', 'SAFELY'),\n",
       "  ('IMMEDIATE', 'IMMEDIATELY', 'SLOW', 'SLOWLY'),\n",
       "  ('IMMEDIATE', 'IMMEDIATELY', 'USUAL', 'USUALLY'),\n",
       "  ('MOST', 'MOSTLY', 'POSSIBLE', 'POSSIBLY'),\n",
       "  ('MOST', 'MOSTLY', 'PROFESSIONAL', 'PROFESSIONALLY'),\n",
       "  ('MOST', 'MOSTLY', 'QUICK', 'QUICKLY'),\n",
       "  ('MOST', 'MOSTLY', 'QUIET', 'QUIETLY'),\n",
       "  ('MOST', 'MOSTLY', 'RAPID', 'RAPIDLY'),\n",
       "  ('MOST', 'MOSTLY', 'RARE', 'RARELY'),\n",
       "  ('MOST', 'MOSTLY', 'SAFE', 'SAFELY'),\n",
       "  ('MOST', 'MOSTLY', 'SERIOUS', 'SERIOUSLY'),\n",
       "  ('MOST', 'MOSTLY', 'SLOW', 'SLOWLY'),\n",
       "  ('MOST', 'MOSTLY', 'SUDDEN', 'SUDDENLY'),\n",
       "  ('MOST', 'MOSTLY', 'USUAL', 'USUALLY'),\n",
       "  ('MOST', 'MOSTLY', 'EFFICIENT', 'EFFICIENTLY'),\n",
       "  ('MOST', 'MOSTLY', 'FREE', 'FREELY'),\n",
       "  ('MOST', 'MOSTLY', 'IMMEDIATE', 'IMMEDIATELY'),\n",
       "  ('OCCASIONAL', 'OCCASIONALLY', 'QUICK', 'QUICKLY'),\n",
       "  ('OCCASIONAL', 'OCCASIONALLY', 'QUIET', 'QUIETLY'),\n",
       "  ('OCCASIONAL', 'OCCASIONALLY', 'RAPID', 'RAPIDLY'),\n",
       "  ('OCCASIONAL', 'OCCASIONALLY', 'RARE', 'RARELY'),\n",
       "  ('OCCASIONAL', 'OCCASIONALLY', 'SAFE', 'SAFELY'),\n",
       "  ('OCCASIONAL', 'OCCASIONALLY', 'SLOW', 'SLOWLY'),\n",
       "  ('OCCASIONAL', 'OCCASIONALLY', 'USUAL', 'USUALLY'),\n",
       "  ('OCCASIONAL', 'OCCASIONALLY', 'IMMEDIATE', 'IMMEDIATELY'),\n",
       "  ('OCCASIONAL', 'OCCASIONALLY', 'MOST', 'MOSTLY'),\n",
       "  ('POSSIBLE', 'POSSIBLY', 'PROFESSIONAL', 'PROFESSIONALLY'),\n",
       "  ('POSSIBLE', 'POSSIBLY', 'QUICK', 'QUICKLY'),\n",
       "  ('POSSIBLE', 'POSSIBLY', 'QUIET', 'QUIETLY'),\n",
       "  ('POSSIBLE', 'POSSIBLY', 'RARE', 'RARELY'),\n",
       "  ('POSSIBLE', 'POSSIBLY', 'SAFE', 'SAFELY'),\n",
       "  ('POSSIBLE', 'POSSIBLY', 'SERIOUS', 'SERIOUSLY'),\n",
       "  ('POSSIBLE', 'POSSIBLY', 'SLOW', 'SLOWLY'),\n",
       "  ('POSSIBLE', 'POSSIBLY', 'FREE', 'FREELY'),\n",
       "  ('POSSIBLE', 'POSSIBLY', 'IMMEDIATE', 'IMMEDIATELY'),\n",
       "  ('POSSIBLE', 'POSSIBLY', 'MOST', 'MOSTLY'),\n",
       "  ('PROFESSIONAL', 'PROFESSIONALLY', 'QUICK', 'QUICKLY'),\n",
       "  ('PROFESSIONAL', 'PROFESSIONALLY', 'QUIET', 'QUIETLY'),\n",
       "  ('PROFESSIONAL', 'PROFESSIONALLY', 'RAPID', 'RAPIDLY'),\n",
       "  ('PROFESSIONAL', 'PROFESSIONALLY', 'SAFE', 'SAFELY'),\n",
       "  ('PROFESSIONAL', 'PROFESSIONALLY', 'SLOW', 'SLOWLY'),\n",
       "  ('PROFESSIONAL', 'PROFESSIONALLY', 'FREE', 'FREELY'),\n",
       "  ('PROFESSIONAL', 'PROFESSIONALLY', 'IMMEDIATE', 'IMMEDIATELY'),\n",
       "  ('PROFESSIONAL', 'PROFESSIONALLY', 'MOST', 'MOSTLY'),\n",
       "  ('QUICK', 'QUICKLY', 'QUIET', 'QUIETLY'),\n",
       "  ('QUICK', 'QUICKLY', 'RARE', 'RARELY'),\n",
       "  ('QUICK', 'QUICKLY', 'SAFE', 'SAFELY'),\n",
       "  ('QUICK', 'QUICKLY', 'SERIOUS', 'SERIOUSLY'),\n",
       "  ('QUICK', 'QUICKLY', 'SLOW', 'SLOWLY'),\n",
       "  ('QUICK', 'QUICKLY', 'TYPICAL', 'TYPICALLY'),\n",
       "  ('QUICK', 'QUICKLY', 'USUAL', 'USUALLY'),\n",
       "  ('QUICK', 'QUICKLY', 'FREE', 'FREELY'),\n",
       "  ('QUICK', 'QUICKLY', 'IMMEDIATE', 'IMMEDIATELY'),\n",
       "  ('QUICK', 'QUICKLY', 'MOST', 'MOSTLY'),\n",
       "  ('QUICK', 'QUICKLY', 'PROFESSIONAL', 'PROFESSIONALLY'),\n",
       "  ('QUIET', 'QUIETLY', 'RAPID', 'RAPIDLY'),\n",
       "  ('QUIET', 'QUIETLY', 'RARE', 'RARELY'),\n",
       "  ('QUIET', 'QUIETLY', 'SAFE', 'SAFELY'),\n",
       "  ('QUIET', 'QUIETLY', 'SERIOUS', 'SERIOUSLY'),\n",
       "  ('QUIET', 'QUIETLY', 'SLOW', 'SLOWLY'),\n",
       "  ('QUIET', 'QUIETLY', 'SUDDEN', 'SUDDENLY'),\n",
       "  ('QUIET', 'QUIETLY', 'EFFICIENT', 'EFFICIENTLY'),\n",
       "  ('QUIET', 'QUIETLY', 'FREE', 'FREELY'),\n",
       "  ('QUIET', 'QUIETLY', 'IMMEDIATE', 'IMMEDIATELY'),\n",
       "  ('QUIET', 'QUIETLY', 'MOST', 'MOSTLY'),\n",
       "  ('QUIET', 'QUIETLY', 'POSSIBLE', 'POSSIBLY'),\n",
       "  ('QUIET', 'QUIETLY', 'PROFESSIONAL', 'PROFESSIONALLY'),\n",
       "  ('QUIET', 'QUIETLY', 'QUICK', 'QUICKLY'),\n",
       "  ('RAPID', 'RAPIDLY', 'RARE', 'RARELY'),\n",
       "  ('RAPID', 'RAPIDLY', 'SAFE', 'SAFELY'),\n",
       "  ('RAPID', 'RAPIDLY', 'SERIOUS', 'SERIOUSLY'),\n",
       "  ('RAPID', 'RAPIDLY', 'SLOW', 'SLOWLY'),\n",
       "  ('RAPID', 'RAPIDLY', 'TYPICAL', 'TYPICALLY'),\n",
       "  ('RAPID', 'RAPIDLY', 'USUAL', 'USUALLY'),\n",
       "  ('RAPID', 'RAPIDLY', 'EFFICIENT', 'EFFICIENTLY'),\n",
       "  ('RAPID', 'RAPIDLY', 'FREE', 'FREELY'),\n",
       "  ('RAPID', 'RAPIDLY', 'IMMEDIATE', 'IMMEDIATELY'),\n",
       "  ('RAPID', 'RAPIDLY', 'MOST', 'MOSTLY'),\n",
       "  ('RAPID', 'RAPIDLY', 'PROFESSIONAL', 'PROFESSIONALLY'),\n",
       "  ('RAPID', 'RAPIDLY', 'QUICK', 'QUICKLY'),\n",
       "  ('RARE', 'RARELY', 'SAFE', 'SAFELY'),\n",
       "  ('RARE', 'RARELY', 'SERIOUS', 'SERIOUSLY'),\n",
       "  ('RARE', 'RARELY', 'SLOW', 'SLOWLY'),\n",
       "  ('RARE', 'RARELY', 'TYPICAL', 'TYPICALLY'),\n",
       "  ('RARE', 'RARELY', 'USUAL', 'USUALLY'),\n",
       "  ('RARE', 'RARELY', 'IMMEDIATE', 'IMMEDIATELY'),\n",
       "  ('RARE', 'RARELY', 'MOST', 'MOSTLY'),\n",
       "  ('RARE', 'RARELY', 'POSSIBLE', 'POSSIBLY'),\n",
       "  ('RARE', 'RARELY', 'PROFESSIONAL', 'PROFESSIONALLY'),\n",
       "  ('RARE', 'RARELY', 'QUICK', 'QUICKLY'),\n",
       "  ('RARE', 'RARELY', 'QUIET', 'QUIETLY'),\n",
       "  ('RARE', 'RARELY', 'RAPID', 'RAPIDLY'),\n",
       "  ('SAFE', 'SAFELY', 'SERIOUS', 'SERIOUSLY'),\n",
       "  ('SAFE', 'SAFELY', 'SLOW', 'SLOWLY'),\n",
       "  ('SAFE', 'SAFELY', 'TYPICAL', 'TYPICALLY'),\n",
       "  ('SAFE', 'SAFELY', 'USUAL', 'USUALLY'),\n",
       "  ('SAFE', 'SAFELY', 'EFFICIENT', 'EFFICIENTLY'),\n",
       "  ('SAFE', 'SAFELY', 'FREE', 'FREELY'),\n",
       "  ('SAFE', 'SAFELY', 'IMMEDIATE', 'IMMEDIATELY'),\n",
       "  ('SAFE', 'SAFELY', 'MOST', 'MOSTLY'),\n",
       "  ('SAFE', 'SAFELY', 'POSSIBLE', 'POSSIBLY'),\n",
       "  ('SAFE', 'SAFELY', 'PROFESSIONAL', 'PROFESSIONALLY'),\n",
       "  ('SAFE', 'SAFELY', 'QUICK', 'QUICKLY'),\n",
       "  ('SAFE', 'SAFELY', 'RAPID', 'RAPIDLY'),\n",
       "  ('SAFE', 'SAFELY', 'RARE', 'RARELY'),\n",
       "  ('SERIOUS', 'SERIOUSLY', 'SLOW', 'SLOWLY'),\n",
       "  ('SERIOUS', 'SERIOUSLY', 'USUAL', 'USUALLY'),\n",
       "  ('SERIOUS', 'SERIOUSLY', 'EFFICIENT', 'EFFICIENTLY'),\n",
       "  ('SERIOUS', 'SERIOUSLY', 'IMMEDIATE', 'IMMEDIATELY'),\n",
       "  ('SERIOUS', 'SERIOUSLY', 'MOST', 'MOSTLY'),\n",
       "  ('SERIOUS', 'SERIOUSLY', 'PROFESSIONAL', 'PROFESSIONALLY'),\n",
       "  ('SERIOUS', 'SERIOUSLY', 'QUICK', 'QUICKLY'),\n",
       "  ('SERIOUS', 'SERIOUSLY', 'RARE', 'RARELY'),\n",
       "  ('SLOW', 'SLOWLY', 'TYPICAL', 'TYPICALLY'),\n",
       "  ('SLOW', 'SLOWLY', 'USUAL', 'USUALLY'),\n",
       "  ('SLOW', 'SLOWLY', 'COMPLETE', 'COMPLETELY'),\n",
       "  ('SLOW', 'SLOWLY', 'FREE', 'FREELY'),\n",
       "  ('SLOW', 'SLOWLY', 'IMMEDIATE', 'IMMEDIATELY'),\n",
       "  ('SLOW', 'SLOWLY', 'MOST', 'MOSTLY'),\n",
       "  ('SLOW', 'SLOWLY', 'OCCASIONAL', 'OCCASIONALLY'),\n",
       "  ('SLOW', 'SLOWLY', 'PROFESSIONAL', 'PROFESSIONALLY'),\n",
       "  ('SLOW', 'SLOWLY', 'QUICK', 'QUICKLY'),\n",
       "  ('SLOW', 'SLOWLY', 'QUIET', 'QUIETLY'),\n",
       "  ('SLOW', 'SLOWLY', 'RARE', 'RARELY'),\n",
       "  ('SLOW', 'SLOWLY', 'SAFE', 'SAFELY'),\n",
       "  ('SLOW', 'SLOWLY', 'SERIOUS', 'SERIOUSLY'),\n",
       "  ('SUDDEN', 'SUDDENLY', 'IMMEDIATE', 'IMMEDIATELY'),\n",
       "  ('SUDDEN', 'SUDDENLY', 'MOST', 'MOSTLY'),\n",
       "  ('SUDDEN', 'SUDDENLY', 'PROFESSIONAL', 'PROFESSIONALLY'),\n",
       "  ('SUDDEN', 'SUDDENLY', 'QUICK', 'QUICKLY'),\n",
       "  ('SUDDEN', 'SUDDENLY', 'RARE', 'RARELY'),\n",
       "  ('SUDDEN', 'SUDDENLY', 'SLOW', 'SLOWLY'),\n",
       "  ('TYPICAL', 'TYPICALLY', 'FREE', 'FREELY'),\n",
       "  ('TYPICAL', 'TYPICALLY', 'IMMEDIATE', 'IMMEDIATELY'),\n",
       "  ('TYPICAL', 'TYPICALLY', 'MOST', 'MOSTLY'),\n",
       "  ('TYPICAL', 'TYPICALLY', 'PROFESSIONAL', 'PROFESSIONALLY'),\n",
       "  ('TYPICAL', 'TYPICALLY', 'QUICK', 'QUICKLY'),\n",
       "  ('TYPICAL', 'TYPICALLY', 'RAPID', 'RAPIDLY'),\n",
       "  ('TYPICAL', 'TYPICALLY', 'RARE', 'RARELY'),\n",
       "  ('TYPICAL', 'TYPICALLY', 'SAFE', 'SAFELY'),\n",
       "  ('TYPICAL', 'TYPICALLY', 'SLOW', 'SLOWLY'),\n",
       "  ('TYPICAL', 'TYPICALLY', 'SUDDEN', 'SUDDENLY'),\n",
       "  ('USUAL', 'USUALLY', 'FREE', 'FREELY'),\n",
       "  ('USUAL', 'USUALLY', 'IMMEDIATE', 'IMMEDIATELY'),\n",
       "  ('USUAL', 'USUALLY', 'MOST', 'MOSTLY'),\n",
       "  ('USUAL', 'USUALLY', 'PROFESSIONAL', 'PROFESSIONALLY'),\n",
       "  ('USUAL', 'USUALLY', 'QUICK', 'QUICKLY'),\n",
       "  ('USUAL', 'USUALLY', 'RAPID', 'RAPIDLY'),\n",
       "  ('USUAL', 'USUALLY', 'RARE', 'RARELY'),\n",
       "  ('USUAL', 'USUALLY', 'SAFE', 'SAFELY'),\n",
       "  ('USUAL', 'USUALLY', 'SLOW', 'SLOWLY')]}"
      ]
     },
     "execution_count": 16,
     "metadata": {},
     "output_type": "execute_result"
    }
   ],
   "source": [
    "word_analogies[1][5]\n"
   ]
  },
  {
   "cell_type": "code",
   "execution_count": null,
   "metadata": {},
   "outputs": [],
   "source": []
  },
  {
   "cell_type": "code",
   "execution_count": null,
   "metadata": {},
   "outputs": [],
   "source": []
  }
 ],
 "metadata": {
  "kernelspec": {
   "display_name": "mech-int",
   "language": "python",
   "name": "python3"
  },
  "language_info": {
   "codemirror_mode": {
    "name": "ipython",
    "version": 3
   },
   "file_extension": ".py",
   "mimetype": "text/x-python",
   "name": "python",
   "nbconvert_exporter": "python",
   "pygments_lexer": "ipython3",
   "version": "3.11.9"
  }
 },
 "nbformat": 4,
 "nbformat_minor": 2
}
